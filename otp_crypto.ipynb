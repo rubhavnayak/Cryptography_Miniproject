{
  "cells": [
    {
      "cell_type": "markdown",
      "id": "ed7e0fc1",
      "metadata": {
        "id": "ed7e0fc1"
      },
      "source": [
        "# PROJECT 2: “INFORMATION THEORY AND CRYPTOGRAPHY”\n",
        "Cryptography is the study of protecting data by converting it into a secure format that allows only the intended users to access it. The study area has strong connections to information theory, particularly the concept of entropy. In this project, you explore this connection via the one-time pad encryption technique as follows:\n",
        "\n",
        "- Study and describe how one-time pad encryption chooses the key and generates a cipher from the plaintext.\n",
        "- Define perfect secrecy using entropy and prove that the one-time pad can achieve it.\n",
        "- Choose an English passage with more than 2000 characters as the plaintext.\n",
        "- Define a set of possible plaintext characters and compute their probability distribution using the frequency of each character appearing in the passage.\n",
        "- Apply the one-time pad on the plaintext to obtain ciphertext.\n",
        "- Plot the unconditional distribution of the plaintext characters and their distribution conditioned on a cipher character.\n",
        "- Verify the above claim by computing the entropies of two distributions.\n",
        "\n",
        "Present your study in a report with appropriate references, which must be uploaded to the Information Theory and Cryptography folder. The report should demonstrate your understanding of the one-time pad technique, details of the proof, and simulation results. You are encouraged to add any other ideas/results, however small."
      ]
    },
    {
      "cell_type": "code",
      "execution_count": 62,
      "id": "2c534270",
      "metadata": {
        "id": "2c534270"
      },
      "outputs": [],
      "source": [
        "import numpy as np\n",
        "import random\n",
        "import collections\n",
        "import string\n",
        "from math import log2\n",
        "import matplotlib.pyplot as plt"
      ]
    },
    {
      "cell_type": "code",
      "execution_count": 63,
      "id": "cUMNMnU4DhsH",
      "metadata": {
        "colab": {
          "base_uri": "https://localhost:8080/"
        },
        "id": "cUMNMnU4DhsH",
        "outputId": "a6acef47-89b8-46c7-c2a0-2ad50f895af3"
      },
      "outputs": [
        {
          "name": "stdout",
          "output_type": "stream",
          "text": [
            "Fixed charset: abcdefghijklmnopqrstuvwxyz ?.,;:-'\"\n",
            "\n"
          ]
        }
      ],
      "source": [
        "#Character Set\n",
        "charset = string.ascii_lowercase + ' ?.,;:-\\'\"\\n'\n",
        "print(\"Fixed charset:\", charset)\n",
        "\n",
        "#Generate key given message length and character set\n",
        "def generate_key(length, charset):\n",
        "    return ''.join(random.choice(charset) for _ in range(length))\n",
        "\n",
        "#Encrypt message given message, key and character set\n",
        "def otp_encrypt(plaintext, key, charset):\n",
        "    char_to_num = {char: idx for idx, char in enumerate(charset)}\n",
        "    num_to_char = {idx: char for idx, char in enumerate(charset)}\n",
        "    \n",
        "    ciphertext = []\n",
        "    for p_char, k_char in zip(plaintext, key):\n",
        "        p_val = char_to_num[p_char]\n",
        "        k_val = char_to_num[k_char]\n",
        "        c_val = (p_val + k_val) % len(charset)\n",
        "        ciphertext.append(num_to_char[c_val])\n",
        "    return ''.join(ciphertext)\n",
        "\n",
        "#Decrypt message given message, key and character set\n",
        "def otp_decrypt(ciphertext, key, charset):\n",
        "    char_to_num = {char: idx for idx, char in enumerate(charset)}\n",
        "    num_to_char = {idx: char for idx, char in enumerate(charset)}\n",
        "    \n",
        "    plaintext = []\n",
        "    for c_char, k_char in zip(ciphertext, key):\n",
        "        c_val = char_to_num[c_char]\n",
        "        k_val = char_to_num[k_char]\n",
        "        p_val = (c_val - k_val) % len(charset)\n",
        "        plaintext.append(num_to_char[p_val])\n",
        "    return ''.join(plaintext)"
      ]
    },
    {
      "cell_type": "code",
      "execution_count": 64,
      "id": "3f1f3ec2",
      "metadata": {},
      "outputs": [
        {
          "name": "stdout",
          "output_type": "stream",
          "text": [
            "Plaintext:  hello world\n",
            "Ciphertext:  d\"-\"ret:xkh\n",
            "Decrypted Message:  hello world\n"
          ]
        }
      ],
      "source": [
        "# Demo code\n",
        "plaintext =  'Hello World'\n",
        "plaintext = plaintext.lower()\n",
        "key = generate_key(len(plaintext), charset)\n",
        "ciphertext = otp_encrypt(plaintext, key, charset)\n",
        "message = otp_decrypt(ciphertext, key, charset)\n",
        "\n",
        "print('Plaintext: ', plaintext)\n",
        "print('Ciphertext: ', ciphertext)\n",
        "print('Decrypted Message: ', message)"
      ]
    },
    {
      "cell_type": "code",
      "execution_count": 65,
      "id": "8LOwi0EYDefh",
      "metadata": {
        "id": "8LOwi0EYDefh"
      },
      "outputs": [],
      "source": [
        "# Load plaintext\n",
        "with open(\"dante.txt\", \"r\") as f:\n",
        "    plaintext = f.read()\n",
        "\n",
        "# Convert to lowercase\n",
        "plaintext = plaintext.lower()\n",
        "\n",
        "# Ignore characters not present in character set\n",
        "plaintext = ''.join(c for c in plaintext if c in charset)"
      ]
    },
    {
      "cell_type": "code",
      "execution_count": 66,
      "id": "A7ytiSQsDjRn",
      "metadata": {
        "id": "A7ytiSQsDjRn"
      },
      "outputs": [],
      "source": [
        "#Compute character distribution of plaintext message\n",
        "char_count = collections.Counter(plaintext)\n",
        "total_chars = sum(char_count.values())\n",
        "plaintext_prob = [char_count[char] / total_chars for char in charset]\n",
        "\n",
        "# print(\"Plaintext character distribution:\")\n",
        "# for char, prob in zip(charset, plaintext_prob):\n",
        "#     print(f\"'{char}': {prob:.4f}\")\n"
      ]
    },
    {
      "cell_type": "code",
      "execution_count": 67,
      "id": "ce9afb92",
      "metadata": {},
      "outputs": [],
      "source": [
        "#Generate key and ciphertext\n",
        "\n",
        "key = generate_key(len(plaintext), charset)\n",
        "ciphertext = otp_encrypt(plaintext, key, charset)"
      ]
    },
    {
      "cell_type": "code",
      "execution_count": null,
      "id": "d9fc74a0",
      "metadata": {},
      "outputs": [
        {
          "name": "stdout",
          "output_type": "stream",
          "text": [
            "Selected ciphertext character: 'a'\n"
          ]
        },
        {
          "data": {
            "image/png": "[encoded data removed]",
            "text/plain": [
              "<Figure size 1200x600 with 1 Axes>"
            ]
          },
          "metadata": {},
          "output_type": "display_data"
        },
        {
          "name": "stdout",
          "output_type": "stream",
          "text": [
            "Unconditional entropy H(M): 4.2907 bits\n",
            "Conditional entropy H(M|C=a): 4.1117 bits\n"
          ]
        }
      ],
      "source": [
        "#Choose character on which to center distribution \n",
        "cipher_char = random.choice(ciphertext)\n",
        "print(f\"Selected ciphertext character: '{cipher_char}'\")\n",
        "\n",
        "#Compute conditional probability of each character in plaintext given ciphertext character c\n",
        "conditional_count = collections.Counter()\n",
        "total_conditioned = 0\n",
        "\n",
        "for p_char, c_char in zip(plaintext, ciphertext):\n",
        "    if c_char == cipher_char:\n",
        "        conditional_count[p_char] += 1\n",
        "        total_conditioned += 1\n",
        "\n",
        "conditional_prob = [conditional_count[char]/total_conditioned if total_conditioned > 0 else 0.0 for char in charset]\n",
        "\n",
        "# print(\"\\nConditional character distribution:\")\n",
        "# for char, prob in zip(charset, conditional_probs):\n",
        "#     print(f\"'{char}': {prob:.4f}\")\n",
        "\n",
        "#Plot \n",
        "x = np.arange(len(charset))  # numeric x-axis for bars\n",
        "tick_labels = [\n",
        "    '\\n<space>' if char == ' ' else \n",
        "    '\\\\n' if char == '\\n' else \n",
        "    char \n",
        "    for char in charset\n",
        "]\n",
        "\n",
        "plt.figure(figsize=(12,6))\n",
        "plt.bar(x - 0.2, plaintext_prob, width=0.4, alpha=0.6, label='Unconditional P(M)')\n",
        "plt.bar(x + 0.2, conditional_prob, width=0.4, alpha=0.6, label=f'Conditional P(M|C={cipher_char})')\n",
        "plt.xlabel('Characters')\n",
        "plt.ylabel('Probability')\n",
        "plt.xticks(x, tick_labels)\n",
        "plt.legend()\n",
        "plt.title('Unconditional vs Conditional Character Distributions')\n",
        "plt.show()\n",
        "\n",
        "def entropy(probabilities):\n",
        "    return -sum(p * log2(p) for p in probabilities if p > 0)\n",
        "\n",
        "H_P = entropy(plaintext_prob)\n",
        "H_P_given_C = entropy(conditional_prob)\n",
        "\n",
        "print(f\"Unconditional entropy H(M): {H_P:.4f} bits\")\n",
        "print(f\"Conditional entropy H(M|C={cipher_char}): {H_P_given_C:.4f} bits\")"
      ]
    }
  ],
  "metadata": {
    "colab": {
      "provenance": []
    },
    "kernelspec": {
      "display_name": "base",
      "language": "python",
      "name": "python3"
    },
    "language_info": {
      "codemirror_mode": {
        "name": "ipython",
        "version": 3
      },
      "file_extension": ".py",
      "mimetype": "text/x-python",
      "name": "python",
      "nbconvert_exporter": "python",
      "pygments_lexer": "ipython3",
      "version": "3.12.4"
    }
  },
  "nbformat": 4,
  "nbformat_minor": 5
}
