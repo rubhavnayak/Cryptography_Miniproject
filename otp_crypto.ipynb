{
  "cells": [
    {
      "cell_type": "markdown",
      "id": "ed7e0fc1",
      "metadata": {
        "id": "ed7e0fc1"
      },
      "source": [
        "# PROJECT 2: “INFORMATION THEORY AND CRYPTOGRAPHY”\n",
        "Cryptography is the study of protecting data by converting it into a secure format that allows only the intended users to access it. The study area has strong connections to information theory, particularly the concept of entropy. In this project, you explore this connection via the one-time pad encryption technique as follows:\n",
        "\n",
        "- Study and describe how one-time pad encryption chooses the key and generates a cipher from the plaintext.\n",
        "- Define perfect secrecy using entropy and prove that the one-time pad can achieve it.\n",
        "- Choose an English passage with more than 2000 characters as the plaintext.\n",
        "- Define a set of possible plaintext characters and compute their probability distribution using the frequency of each character appearing in the passage.\n",
        "- Apply the one-time pad on the plaintext to obtain ciphertext.\n",
        "- Plot the unconditional distribution of the plaintext characters and their distribution conditioned on a cipher character.\n",
        "- Verify the above claim by computing the entropies of two distributions.\n",
        "\n",
        "Present your study in a report with appropriate references, which must be uploaded to the Information Theory and Cryptography folder. The report should demonstrate your understanding of the one-time pad technique, details of the proof, and simulation results. You are encouraged to add any other ideas/results, however small."
      ]
    },
    {
      "cell_type": "code",
      "execution_count": null,
      "id": "2c534270",
      "metadata": {
        "id": "2c534270"
      },
      "outputs": [],
      "source": []
    }
  ],
  "metadata": {
    "kernelspec": {
      "display_name": "base",
      "language": "python",
      "name": "python3"
    },
    "language_info": {
      "name": "python",
      "version": "3.12.4"
    },
    "colab": {
      "provenance": []
    }
  },
  "nbformat": 4,
  "nbformat_minor": 5
}