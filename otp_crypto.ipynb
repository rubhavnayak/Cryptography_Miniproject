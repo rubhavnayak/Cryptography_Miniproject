{
  "cells": [
    {
      "cell_type": "markdown",
      "id": "ed7e0fc1",
      "metadata": {
        "id": "ed7e0fc1"
      },
      "source": [
        "# PROJECT 2: “INFORMATION THEORY AND CRYPTOGRAPHY”\n",
        "Cryptography is the study of protecting data by converting it into a secure format that allows only the intended users to access it. The study area has strong connections to information theory, particularly the concept of entropy. In this project, you explore this connection via the one-time pad encryption technique as follows:\n",
        "\n",
        "- Study and describe how one-time pad encryption chooses the key and generates a cipher from the plaintext.\n",
        "- Define perfect secrecy using entropy and prove that the one-time pad can achieve it.\n",
        "- Choose an English passage with more than 2000 characters as the plaintext.\n",
        "- Define a set of possible plaintext characters and compute their probability distribution using the frequency of each character appearing in the passage.\n",
        "- Apply the one-time pad on the plaintext to obtain ciphertext.\n",
        "- Plot the unconditional distribution of the plaintext characters and their distribution conditioned on a cipher character.\n",
        "- Verify the above claim by computing the entropies of two distributions.\n",
        "\n",
        "Present your study in a report with appropriate references, which must be uploaded to the Information Theory and Cryptography folder. The report should demonstrate your understanding of the one-time pad technique, details of the proof, and simulation results. You are encouraged to add any other ideas/results, however small."
      ]
    },
    {
      "cell_type": "code",
      "execution_count": 1,
      "id": "2c534270",
      "metadata": {
        "id": "2c534270"
      },
      "outputs": [],
      "source": [
        "# 1. Key Generation and Encryption\n",
        "import numpy as np\n",
        "import random\n",
        "import string\n",
        "\n",
        "def generate_random_key(length):\n",
        "    \"\"\"Generate a random key of specified length from the allowed character set.\"\"\"\n",
        "    charset = string.ascii_lowercase + ' .,;:-\\'\"\\n'\n",
        "    key = ''.join(random.choice(charset) for _ in range(length))\n",
        "    return key\n",
        "\n",
        "def one_time_pad_encrypt(plaintext, key):\n",
        "    \"\"\"Encrypt plaintext with key using modular addition.\"\"\"\n",
        "    charset = string.ascii_lowercase + ' .,;:-\\'\"\\n'\n",
        "    char_to_num = {char: idx for idx, char in enumerate(charset)}\n",
        "    num_to_char = {idx: char for idx, char in enumerate(charset)}\n",
        "    modulus = len(charset)\n",
        "\n",
        "    ciphertext = []\n",
        "    for p_char, k_char in zip(plaintext, key):\n",
        "        if p_char in charset and k_char in charset:\n",
        "            p_val = char_to_num[p_char]\n",
        "            k_val = char_to_num[k_char]\n",
        "            c_val = (p_val + k_val) % modulus\n",
        "            ciphertext.append(num_to_char[c_val])\n",
        "        else:\n",
        "            ciphertext.append(p_char)  # fallback to preserve unknowns\n",
        "    return ''.join(ciphertext)\n"
      ]
    },
    {
      "cell_type": "code",
      "source": [
        "# 2. Perfect Secrecy and Entropy Definitions\n",
        "from math import log2\n",
        "\n",
        "def entropy(probabilities):\n",
        "    \"\"\"Calculate entropy from a probability distribution.\"\"\"\n",
        "    return -sum(p * log2(p) for p in probabilities if p > 0)\n",
        "\n",
        "def print_entropy(plaintext_probs, conditional_probs):\n",
        "    H_P = entropy(plaintext_probs)\n",
        "    H_P_given_C = entropy(conditional_probs)\n",
        "    print(f\"Unconditional entropy H(P): {H_P:.4f} bits\")\n",
        "    print(f\"Conditional entropy H(P|C): {H_P_given_C:.4f} bits\")\n"
      ],
      "metadata": {
        "id": "8LOwi0EYDefh"
      },
      "id": "8LOwi0EYDefh",
      "execution_count": 2,
      "outputs": []
    },
    {
      "cell_type": "code",
      "source": [
        "# 3. Load Text and Calculate Plaintext Distribution\n",
        "import collections\n",
        "\n",
        "# Load a large English passage from file or paste here\n",
        "with open(\"dante.txt\", \"r\") as f:\n",
        "    plaintext = f.read().lower()\n",
        "\n",
        "# Trim or pad to at least 2000 characters\n",
        "plaintext = plaintext[:2000]\n",
        "\n",
        "# Define the character set\n",
        "charset = string.ascii_lowercase + ' .,;:-\\'\"\\n'\n",
        "char_counts = collections.Counter(c for c in plaintext if c in charset)\n",
        "total_chars = sum(char_counts.values())\n",
        "plaintext_probs = [char_counts[char] / total_chars for char in charset]\n",
        "\n",
        "# Display top frequencies\n",
        "print(\"Plaintext character distribution:\")\n",
        "for char in charset:\n",
        "    print(f\"'{char}': {char_counts[char]/total_chars:.4f}\")\n"
      ],
      "metadata": {
        "id": "cUMNMnU4DhsH",
        "outputId": "a6acef47-89b8-46c7-c2a0-2ad50f895af3",
        "colab": {
          "base_uri": "https://localhost:8080/"
        }
      },
      "id": "cUMNMnU4DhsH",
      "execution_count": 4,
      "outputs": [
        {
          "output_type": "stream",
          "name": "stdout",
          "text": [
            "Plaintext character distribution:\n",
            "'a': 0.0675\n",
            "'b': 0.0100\n",
            "'c': 0.0175\n",
            "'d': 0.0320\n",
            "'e': 0.1031\n",
            "'f': 0.0155\n",
            "'g': 0.0115\n",
            "'h': 0.0590\n",
            "'i': 0.0515\n",
            "'j': 0.0005\n",
            "'k': 0.0030\n",
            "'l': 0.0335\n",
            "'m': 0.0260\n",
            "'n': 0.0520\n",
            "'o': 0.0555\n",
            "'p': 0.0155\n",
            "'q': 0.0000\n",
            "'r': 0.0420\n",
            "'s': 0.0640\n",
            "'t': 0.0720\n",
            "'u': 0.0200\n",
            "'v': 0.0090\n",
            "'w': 0.0220\n",
            "'x': 0.0005\n",
            "'y': 0.0045\n",
            "'z': 0.0000\n",
            "' ': 0.1556\n",
            "'.': 0.0065\n",
            "',': 0.0185\n",
            "';': 0.0040\n",
            "':': 0.0005\n",
            "'-': 0.0000\n",
            "''': 0.0005\n",
            "'\"': 0.0030\n",
            "'\n",
            "': 0.0235\n"
          ]
        }
      ]
    },
    {
      "cell_type": "code",
      "source": [
        "# 4. Encrypt Plaintext with One-Time Pad\n",
        "key = generate_random_key(len(plaintext))\n",
        "ciphertext = one_time_pad_encrypt(plaintext, key)\n",
        "\n",
        "# Save ciphertext for later analysis\n",
        "with open(\"ciphertext.txt\", \"w\") as f:\n",
        "    f.write(ciphertext)\n"
      ],
      "metadata": {
        "id": "A7ytiSQsDjRn"
      },
      "id": "A7ytiSQsDjRn",
      "execution_count": 5,
      "outputs": []
    },
    {
      "cell_type": "code",
      "source": [
        "# 5. Analyze Conditional Distributions\n",
        "# Select one ciphertext character to analyze conditional probabilities\n",
        "selected_cipher_char = ciphertext[random.randint(0, len(ciphertext)-1)]\n",
        "print(f\"Selected ciphertext character: '{selected_cipher_char}'\")\n",
        "\n",
        "# Count occurrences of plaintext characters conditioned on selected ciphertext character\n",
        "conditional_counts = collections.Counter()\n",
        "total_conditioned = 0\n",
        "\n",
        "for p_char, c_char in zip(plaintext, ciphertext):\n",
        "    if c_char == selected_cipher_char and p_char in charset:\n",
        "        conditional_counts[p_char] += 1\n",
        "        total_conditioned += 1\n",
        "\n",
        "# Calculate conditional probabilities\n",
        "conditional_probs = [conditional_counts[char]/total_conditioned if total_conditioned > 0 else 0.0 for char in charset]\n",
        "\n",
        "print(\"\\nConditional character distribution:\")\n",
        "for char, prob in zip(charset, conditional_probs):\n",
        "    print(f\"'{char}': {prob:.4f}\")\n"
      ],
      "metadata": {
        "id": "ifSgWQzRDl26",
        "outputId": "ba05f3eb-0fe7-4f2d-8700-cf5e167948b4",
        "colab": {
          "base_uri": "https://localhost:8080/"
        }
      },
      "id": "ifSgWQzRDl26",
      "execution_count": 6,
      "outputs": [
        {
          "output_type": "stream",
          "name": "stdout",
          "text": [
            "Selected ciphertext character: 'e'\n",
            "\n",
            "Conditional character distribution:\n",
            "'a': 0.0735\n",
            "'b': 0.0147\n",
            "'c': 0.0294\n",
            "'d': 0.0294\n",
            "'e': 0.0882\n",
            "'f': 0.0147\n",
            "'g': 0.0294\n",
            "'h': 0.0588\n",
            "'i': 0.0735\n",
            "'j': 0.0000\n",
            "'k': 0.0000\n",
            "'l': 0.0147\n",
            "'m': 0.0147\n",
            "'n': 0.0441\n",
            "'o': 0.0294\n",
            "'p': 0.0294\n",
            "'q': 0.0000\n",
            "'r': 0.0441\n",
            "'s': 0.0294\n",
            "'t': 0.1324\n",
            "'u': 0.0000\n",
            "'v': 0.0294\n",
            "'w': 0.0294\n",
            "'x': 0.0000\n",
            "'y': 0.0294\n",
            "'z': 0.0000\n",
            "' ': 0.1176\n",
            "'.': 0.0000\n",
            "',': 0.0147\n",
            "';': 0.0000\n",
            "':': 0.0000\n",
            "'-': 0.0000\n",
            "''': 0.0000\n",
            "'\"': 0.0000\n",
            "'\n",
            "': 0.0294\n"
          ]
        }
      ]
    },
    {
      "cell_type": "code",
      "source": [
        "# 6. Plot Distributions\n",
        "import matplotlib.pyplot as plt\n",
        "\n",
        "x = list(charset)\n",
        "plt.figure(figsize=(12,6))\n",
        "plt.bar(x, plaintext_probs, alpha=0.6, label='Unconditional P(P)')\n",
        "plt.bar(x, conditional_probs, alpha=0.6, label=f'Conditional P(P|C={selected_cipher_char})')\n",
        "plt.xlabel('Characters')\n",
        "plt.ylabel('Probability')\n",
        "plt.legend()\n",
        "plt.title('Unconditional vs Conditional Character Distributions')\n",
        "plt.show()\n"
      ],
      "metadata": {
        "id": "eqfuCqusDooY",
        "outputId": "9f745899-e98d-4bd7-ef2a-e6d496b4e9d7",
        "colab": {
          "base_uri": "https://localhost:8080/",
          "height": 580
        }
      },
      "id": "eqfuCqusDooY",
      "execution_count": 7,
      "outputs": [
        {
          "output_type": "display_data",
          "data": {
            "text/plain": [
              "<Figure size 1200x600 with 1 Axes>"
            ],
            "image/png": "[encoded data removed]"
          },
          "metadata": {}
        }
      ]
    },
    {
      "cell_type": "code",
      "source": [
        "# 7. Calculate and Compare Entropies\n",
        "print_entropy(plaintext_probs, conditional_probs)\n"
      ],
      "metadata": {
        "id": "o__zfC6zDqA2",
        "outputId": "455c2e8f-411b-49b0-f43a-b8245a0598a7",
        "colab": {
          "base_uri": "https://localhost:8080/"
        }
      },
      "id": "o__zfC6zDqA2",
      "execution_count": 8,
      "outputs": [
        {
          "output_type": "stream",
          "name": "stdout",
          "text": [
            "Unconditional entropy H(P): 4.2572 bits\n",
            "Conditional entropy H(P|C): 4.1938 bits\n"
          ]
        }
      ]
    }
  ],
  "metadata": {
    "kernelspec": {
      "display_name": "base",
      "language": "python",
      "name": "python3"
    },
    "language_info": {
      "name": "python",
      "version": "3.12.4"
    },
    "colab": {
      "provenance": []
    }
  },
  "nbformat": 4,
  "nbformat_minor": 5
}